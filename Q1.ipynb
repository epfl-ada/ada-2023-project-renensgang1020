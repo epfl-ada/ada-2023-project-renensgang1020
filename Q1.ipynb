{
 "cells": [
  {
   "cell_type": "code",
   "execution_count": 31,
   "id": "initial_id",
   "metadata": {
    "collapsed": true,
    "ExecuteTime": {
     "end_time": "2023-12-15T15:30:18.055214Z",
     "start_time": "2023-12-15T15:30:18.026608Z"
    }
   },
   "outputs": [],
   "source": [
    "#importing libraries\n",
    "import pandas as pd\n",
    "import numpy as np\n",
    "import pycountry\n",
    "import os\n",
    "import seaborn as sns\n",
    "from helper_functions import load_ratings, load_breweries, load_users, add_user_and_brewery_location, drop_breweries_with_less_than_n_reviews, get_average_rating_and_count_per_brewery, get_average_per_country, plot_world_map, drop_countries_with_less_than_n_reviews, keep_only_countries_in_list_and_merge_all_dfs\n",
    "import matplotlib.pyplot as plt"
   ]
  },
  {
   "cell_type": "code",
   "execution_count": 32,
   "outputs": [],
   "source": [
    "#Dataset directories\n",
    "ROOT_DIR = os.path.abspath(os.curdir)\n",
    "DATA_DIR = os.path.join(ROOT_DIR, 'data/')\n",
    "BA_DIR = os.path.join(DATA_DIR, 'BeerAdvocate/')\n",
    "RB_DIR = os.path.join(DATA_DIR, 'RateBeer/')\n",
    "MATCHED_BEER_DIR = os.path.join(DATA_DIR, \"matched_beer_data/\")"
   ],
   "metadata": {
    "collapsed": false,
    "ExecuteTime": {
     "end_time": "2023-12-15T15:30:18.062709Z",
     "start_time": "2023-12-15T15:30:18.060010Z"
    }
   },
   "id": "98ba56f426eac58"
  },
  {
   "cell_type": "code",
   "execution_count": null,
   "outputs": [],
   "source": [
    "#Dataset loading\n",
    "ratings_data = load_ratings(os.path.join(MATCHED_BEER_DIR, 'ratings_with_text_rb.txt'), os.path.join(MATCHED_BEER_DIR, 'ratings_with_text_ba.txt'))\n",
    "breweries_data = load_breweries(os.path.join(RB_DIR, 'breweries.csv'), os.path.join(BA_DIR, 'breweries.csv'))\n",
    "users_data = load_users(os.path.join(RB_DIR, 'users.csv'), os.path.join(BA_DIR, 'users.csv'))\n",
    "breweries_data['id'] = breweries_data['id'].astype(int)\n",
    "ratings_data['brewery_id'] = ratings_data['brewery_id'].astype(int)\n",
    "ratings_data['beer_id'] = ratings_data['beer_id'].astype(int)"
   ],
   "metadata": {
    "collapsed": false,
    "is_executing": true,
    "ExecuteTime": {
     "start_time": "2023-12-15T15:30:18.065462Z"
    }
   },
   "id": "4c4a28d73b87e36a"
  },
  {
   "cell_type": "code",
   "execution_count": null,
   "outputs": [],
   "source": [
    "brewery_id_to_country = breweries_data.set_index(\"id\")[\"location\"].to_dict()\n",
    "beer_id_to_brewery_id = ratings_data.set_index(\"beer_id\")[\"brewery_id\"].to_dict()\n",
    "beer_country_dict = {}\n",
    "for beer_id, brewery_id in beer_id_to_brewery_id.items():\n",
    "    if brewery_id in brewery_id_to_country:\n",
    "        country = brewery_id_to_country[brewery_id]\n",
    "        beer_country_dict[beer_id] = country"
   ],
   "metadata": {
    "collapsed": false,
    "is_executing": true
   },
   "id": "56d216f112d33b8"
  },
  {
   "cell_type": "code",
   "execution_count": null,
   "outputs": [],
   "source": [
    "count_reviews = ratings_data.groupby(['beer_id'])['rating'].count().to_frame().reset_index().rename(columns={'rating': 'count'})\n",
    "count_reviews[\"country\"] = count_reviews['beer_id'].map(brewery_id_to_country)"
   ],
   "metadata": {
    "collapsed": false,
    "is_executing": true
   },
   "id": "41fcd2bae4f8f46"
  },
  {
   "cell_type": "code",
   "execution_count": null,
   "outputs": [],
   "source": [
    "count_rating_per_country = count_reviews.groupby('country')['count'].sum().reset_index()"
   ],
   "metadata": {
    "collapsed": false,
    "is_executing": true
   },
   "id": "8a8f72b7c10f0e1d"
  },
  {
   "cell_type": "code",
   "execution_count": null,
   "outputs": [],
   "source": [
    "ratings_data['country'] = ratings_data['beer_id'].map(beer_country_dict)"
   ],
   "metadata": {
    "collapsed": false,
    "is_executing": true
   },
   "id": "657402c45f6804fc"
  },
  {
   "cell_type": "markdown",
   "source": [
    "# Let's investigate Beer nations\n",
    "The concept of \"Beer Nations\" can be explored by examining countries with a high number of breweries and a diverse range of beer styles. Typically, countries like Belgium, Germany, and the United States are renowned for their beer culture.\n",
    "By analyzing the distribution of breweries and the variety of beer styles, we will identify which countries stand out as prominent beer producers and connoisseurs."
   ],
   "metadata": {
    "collapsed": false
   },
   "id": "34d0ebe291e520b0"
  },
  {
   "cell_type": "code",
   "execution_count": null,
   "outputs": [],
   "source": [
    "ratings_copy = ratings_data.copy()"
   ],
   "metadata": {
    "collapsed": false,
    "is_executing": true
   },
   "id": "f8be2e38076d37f5"
  },
  {
   "cell_type": "code",
   "execution_count": null,
   "outputs": [],
   "source": [
    "# Grouping by country to count breweries and styles\n",
    "beer_nations_df = ratings_copy.groupby('country').agg(\n",
    "    Brewery_Count=('beer_id', 'nunique'),\n",
    "    Style_Diversity=('style', 'nunique')\n",
    ").reset_index()"
   ],
   "metadata": {
    "collapsed": false,
    "is_executing": true
   },
   "id": "91a5c2a7256a9ac8"
  },
  {
   "cell_type": "code",
   "execution_count": null,
   "outputs": [],
   "source": [
    "top_brewery_countries = beer_nations_df.nlargest(10, 'Brewery_Count')"
   ],
   "metadata": {
    "collapsed": false,
    "is_executing": true
   },
   "id": "468d85f71304e557"
  },
  {
   "cell_type": "code",
   "execution_count": null,
   "outputs": [],
   "source": [
    "sns.set(style=\"whitegrid\")\n",
    "\n",
    "# Plotting\n",
    "fig, ax1 = plt.subplots(figsize=(10, 6))\n",
    "\n",
    "# Bar plot for Brewery Count\n",
    "sns.barplot(x='country', y='Brewery_Count', data=top_brewery_countries, ax=ax1, color='lightblue')\n",
    "\n",
    "# Line plot for Style Diversity\n",
    "ax2 = ax1.twinx()\n",
    "sns.lineplot(x='country', y='Style_Diversity', data=top_brewery_countries, ax=ax2, color='darkblue', marker='o')\n",
    "\n",
    "ax1.set_title('Brewery Count and Style Diversity by Country')\n",
    "ax1.set_xlabel('Country')\n",
    "ax1.set_ylabel('Brewery Count')\n",
    "ax2.set_ylabel('Style Diversity')\n",
    "\n",
    "plt.show()"
   ],
   "metadata": {
    "collapsed": false,
    "is_executing": true
   },
   "id": "673751473c4e1def"
  },
  {
   "cell_type": "markdown",
   "source": [
    "The United States leads significantly in brewery count (41,152) and style diversity (167). This suggests a highly developed and diverse beer industry, likely offering a wide range of beer experiences from mass-produced to craft and specialty beers.\n",
    "Belgium and Germany, known for their beer culture, show a good balance of brewery count and style diversity (Belgium: 1,369 breweries, 130 styles; Germany: 2,131 breweries, 149 styles). This aligns with their reputation for quality and variety in beer production.\n",
    "High brewery count and style diversity in countries like Canada and the UK also indicate thriving beer industries. The data reveals a correlation between a country's beer culture's maturity and its diversity in beer styles."
   ],
   "metadata": {
    "collapsed": false
   },
   "id": "bccb33b6e0238c91"
  },
  {
   "cell_type": "markdown",
   "source": [
    "# Now let's look at the ratings by country\n",
    "Some countries might excel in specific aspects, like the robust taste profiles of Belgian ales or the refined appearance of German lagers. This analysis will help in understanding which countries' beers are most favored by enthusiasts and critics alike."
   ],
   "metadata": {
    "collapsed": false
   },
   "id": "4974bbd95630f06"
  },
  {
   "cell_type": "code",
   "execution_count": null,
   "outputs": [],
   "source": [
    "ratings_copy = ratings_data.copy()"
   ],
   "metadata": {
    "collapsed": false,
    "is_executing": true
   },
   "id": "c2d58e01766ffc1e"
  },
  {
   "cell_type": "code",
   "execution_count": null,
   "outputs": [],
   "source": [
    "ratings_by_country_df = ratings_copy.groupby('country').agg(\n",
    "    Average_Taste_Rating=('taste', 'mean'),\n",
    "    Average_Aroma_Rating=('aroma', 'mean'),\n",
    "    Average_Appearance_Rating=('appearance', 'mean'),\n",
    "    Average_Palate_Rating=('palate', 'mean'),\n",
    "    Average_Overall_Rating=('rating', 'mean')\n",
    ").reset_index()"
   ],
   "metadata": {
    "collapsed": false,
    "is_executing": true
   },
   "id": "324d7d7f0ca1966"
  },
  {
   "cell_type": "code",
   "execution_count": null,
   "outputs": [],
   "source": [
    "top_rated_countries = ratings_by_country_df.nlargest(10, 'Average_Overall_Rating')"
   ],
   "metadata": {
    "collapsed": false,
    "is_executing": true
   },
   "id": "55e3d92b8aeaed8e"
  },
  {
   "cell_type": "code",
   "execution_count": null,
   "outputs": [],
   "source": [
    "fig, ax = plt.subplots(figsize=(12, 8))\n",
    "sns.heatmap(top_rated_countries.set_index('country'), annot=True, cmap='coolwarm', ax=ax)\n",
    "ax.set_title('Beer Ratings by Country')\n",
    "plt.show()"
   ],
   "metadata": {
    "collapsed": false,
    "is_executing": true
   },
   "id": "e77281bf4d589ce2"
  },
  {
   "cell_type": "markdown",
   "source": [
    "Slovenia, with high average ratings across taste, aroma, appearance, palate, and overall (around 4.6 for taste and aroma), suggests an exceptionally high quality of beer, potentially indicating a niche, high-quality beer market.\n",
    "Japan's high ratings (average taste rating of 4.5) indicate a preference for quality and unique flavors in their beer industry.\n",
    "The presence of countries like Malaysia and Tanzania with higher-than-expected ratings might suggest emerging markets with developing tastes or unique local beer styles gaining popularity."
   ],
   "metadata": {
    "collapsed": false
   },
   "id": "1eda9e60df2fcc85"
  },
  {
   "cell_type": "markdown",
   "source": [
    "# Let's now analyse the popular beer styles by country\n",
    "The results might reflect traditional preferences, like the popularity of stouts in Ireland or IPAs in the United States, or could uncover emerging trends in global beer tastes."
   ],
   "metadata": {
    "collapsed": false
   },
   "id": "694ff91213861582"
  },
  {
   "cell_type": "code",
   "execution_count": null,
   "outputs": [],
   "source": [
    "ratings_copy = ratings_data.copy()"
   ],
   "metadata": {
    "collapsed": false,
    "is_executing": true
   },
   "id": "62287d1662c1c247"
  },
  {
   "cell_type": "code",
   "execution_count": null,
   "outputs": [],
   "source": [
    "# Calculate the average rating and review count for each style\n",
    "style_popularity = ratings_copy.groupby('style').agg(\n",
    "    Average_Rating=('rating', 'mean'),\n",
    "    Review_Count=('rating', 'count')\n",
    ").reset_index()\n",
    "\n",
    "# Select the top N styles based on review count or rating\n",
    "N_styles = 10\n",
    "top_styles = style_popularity.nlargest(N_styles, 'Review_Count')['style']\n",
    "\n",
    "# Filter the original dataframe to include only the top styles\n",
    "filtered_styles_df = ratings_copy[ratings_copy['style'].isin(top_styles)]"
   ],
   "metadata": {
    "collapsed": false,
    "is_executing": true
   },
   "id": "8bf5fc1140f4fcd"
  },
  {
   "cell_type": "code",
   "execution_count": null,
   "outputs": [],
   "source": [
    "# Assuming 'popular_styles_df' has columns 'country' and 'rating'\n",
    "top_countries = ratings_copy.groupby('country').size().nlargest(10).index\n",
    "\n",
    "filtered_df = filtered_styles_df[filtered_styles_df['country'].isin(top_countries)]\n",
    "\n",
    "# Group by country and style to find the most popular style in each country\n",
    "country_style_popularity = filtered_df.groupby(['country', 'style']).agg(\n",
    "    Average_Rating=('rating', 'mean'),\n",
    "    Review_Count=('rating', 'count')\n",
    ").reset_index()"
   ],
   "metadata": {
    "collapsed": false,
    "is_executing": true
   },
   "id": "4344d35f41177c67"
  },
  {
   "cell_type": "code",
   "execution_count": null,
   "outputs": [],
   "source": [
    "# Creating a pivot table for visualization\n",
    "pivot_table = country_style_popularity.pivot_table(index='country', columns='style', values='Average_Rating')\n",
    "\n",
    "# Plotting\n",
    "plt.figure(figsize=(12, 10))\n",
    "sns.heatmap(pivot_table, annot=True, cmap=\"YlGnBu\")\n",
    "plt.title('Heatmap of Popular Beer Styles by Country')\n",
    "plt.ylabel('Country')\n",
    "plt.xlabel('Beer Style')\n",
    "plt.xticks(rotation=45)\n",
    "plt.show()"
   ],
   "metadata": {
    "collapsed": false,
    "is_executing": true
   },
   "id": "fd1be9e8a96c31ed"
  },
  {
   "cell_type": "markdown",
   "source": [
    "The United States shows a diverse range of popular beer styles with high ratings, especially for American IPA (average rating of 3.98) and Imperial Stout (3.86). This diversity reflects the dynamic and innovative nature of the American beer market.\n",
    "The UK and Belgium also show diversity in popular styles, with high ratings in categories like Imperial Stout and Belgian Strong Ale, reflecting their traditional strengths.\n",
    "The data reflects a blend of traditional and modern styles, indicating a global trend towards variety and experimentation in beer production."
   ],
   "metadata": {
    "collapsed": false
   },
   "id": "ee61d4031ccfe267"
  },
  {
   "cell_type": "markdown",
   "source": [
    "# Finally, let's try to find a correlation between breweries, diversity and ranking\n",
    "An analysis of the correlation between the number of breweries, diversity of beer types, and overall beer ratings in each country is an insightful undertaking. This involves examining whether countries with more breweries and a wider range of beer styles tend to have higher overall ratings for their beers. Such a correlation, if present, could suggest that a vibrant, competitive brewing scene fosters higher quality and innovation in beer production."
   ],
   "metadata": {
    "collapsed": false
   },
   "id": "13be07bb3507e390"
  },
  {
   "cell_type": "code",
   "execution_count": null,
   "outputs": [],
   "source": [
    "ratings_copy = ratings_data.copy()"
   ],
   "metadata": {
    "collapsed": false,
    "is_executing": true
   },
   "id": "c064d399a1620ef9"
  },
  {
   "cell_type": "code",
   "execution_count": null,
   "outputs": [],
   "source": [
    "correlation_df = ratings_copy.groupby('country').agg(\n",
    "    Brewery_Count=('beer_id', 'nunique'),\n",
    "    Style_Diversity=('style', 'nunique'),\n",
    "    Average_Overall_Rating=('rating', 'mean')\n",
    ").reset_index()"
   ],
   "metadata": {
    "collapsed": false,
    "is_executing": true
   },
   "id": "51e294ac306d6812"
  },
  {
   "cell_type": "code",
   "execution_count": null,
   "outputs": [],
   "source": [
    "top_correlation_countries = correlation_df[correlation_df['country'].isin(top_brewery_countries['country'])]"
   ],
   "metadata": {
    "collapsed": false,
    "is_executing": true
   },
   "id": "9f08b16ee6542b4"
  },
  {
   "cell_type": "code",
   "execution_count": null,
   "outputs": [],
   "source": [
    "# Exclude non-numeric columns (like 'country') before calculating the correlation\n",
    "numeric_cols = top_correlation_countries.select_dtypes(include=['float64', 'int64'])\n",
    "\n",
    "# Calculate the correlation matrix on numeric columns only\n",
    "corr_matrix = numeric_cols.corr()\n",
    "\n",
    "# Plotting the heatmap\n",
    "plt.figure(figsize=(10, 8))\n",
    "sns.heatmap(corr_matrix, annot=True, cmap='coolwarm', fmt='.2f')\n",
    "plt.title('Correlation Matrix for Top Countries')\n",
    "plt.show()"
   ],
   "metadata": {
    "collapsed": false,
    "is_executing": true
   },
   "id": "fc39165b679cb6cd"
  },
  {
   "cell_type": "markdown",
   "source": [
    "Correlation Between Brewery Count and Style Diversity: \n",
    "The correlation coefficient is 0.707. This is a strong positive correlation, suggesting that countries with more breweries tend to also have a greater diversity of beer styles. This relationship implies that as the beer industry in a country expands in terms of the number of breweries, there is a parallel increase in the variety of beer styles produced. It indicates a thriving beer culture where expansion leads to innovation and variety.\n",
    "\n",
    "Correlation Between Brewery Count and Average Overall Rating: \n",
    "The correlation coefficient is 0.464. This is a moderate positive correlation. It implies that countries with more breweries tend to have higher average overall ratings for their beers, although the relationship is not as strong as with style diversity. This could suggest that having more breweries contributes to better quality beers, possibly due to increased competition, a greater exchange of brewing techniques, or a wider selection for consumers.\n",
    "\n",
    "Correlation Between Style Diversity and Average Overall Rating: \n",
    "The correlation coefficient is 0.306. This is a positive but relatively weak correlation. It indicates that a greater diversity of beer styles has some association with higher average overall ratings, but other factors may play a more significant role in determining beer quality. This could mean that simply having a wide variety of beer styles is not a strong predictor of overall beer quality as perceived by consumers or critics."
   ],
   "metadata": {
    "collapsed": false
   },
   "id": "f7bc2d164a36b7e9"
  }
 ],
 "metadata": {
  "kernelspec": {
   "display_name": "Python 3",
   "language": "python",
   "name": "python3"
  },
  "language_info": {
   "codemirror_mode": {
    "name": "ipython",
    "version": 2
   },
   "file_extension": ".py",
   "mimetype": "text/x-python",
   "name": "python",
   "nbconvert_exporter": "python",
   "pygments_lexer": "ipython2",
   "version": "2.7.6"
  }
 },
 "nbformat": 4,
 "nbformat_minor": 5
}
