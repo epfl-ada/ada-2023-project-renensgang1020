{
 "cells": [
  {
   "cell_type": "markdown",
   "metadata": {},
   "source": [
    "### Imports & data loading\n"
   ]
  },
  {
   "cell_type": "code",
   "execution_count": 4,
   "metadata": {},
   "outputs": [],
   "source": [
    "#importing libraries\n",
    "#importing libraries\n",
    "import pandas as pd\n",
    "import numpy as np\n",
    "import pycountry\n",
    "import os\n",
    "import seaborn as sns\n",
    "import matplotlib.pyplot as plt\n",
    "from scipy import stats\n",
    "from geopy.geocoders import Nominatim\n",
    "from statsmodels.tsa.stattools import adfuller\n",
    "import random\n",
    "import networkx as nx\n",
    "from collections import defaultdict\n",
    "from mpl_toolkits.basemap import Basemap\n",
    "from helper_functions import load_ratings, load_breweries, load_users, add_user_and_brewery_location, drop_breweries_with_less_than_n_reviews, get_average_rating_and_count_per_brewery, get_average_per_country, plot_world_map"
   ]
  },
  {
   "cell_type": "code",
   "execution_count": 5,
   "metadata": {},
   "outputs": [],
   "source": [
    "#Dataset directories\n",
    "ROOT_DIR = os.path.abspath(os.curdir)\n",
    "DATA_DIR = os.path.join(ROOT_DIR, 'data/')\n",
    "BA_DIR = os.path.join(DATA_DIR, 'BeerAdvocate/')\n",
    "RB_DIR = os.path.join(DATA_DIR, 'RateBeer/')\n",
    "MATCHED_BEER_DIR = os.path.join(DATA_DIR, \"matched_beer_data/\")"
   ]
  },
  {
   "cell_type": "code",
   "execution_count": null,
   "metadata": {},
   "outputs": [],
   "source": [
    "#Dataset loading\n",
    "ratings_data = load_ratings(os.path.join(MATCHED_BEER_DIR, 'ratings_with_text_rb.txt'), os.path.join(MATCHED_BEER_DIR, 'ratings_with_text_ba.txt'))\n",
    "breweries_data = load_breweries(os.path.join(RB_DIR, 'breweries.csv'), os.path.join(BA_DIR, 'breweries.csv'))\n",
    "users_data = load_users(os.path.join(RB_DIR, 'users.csv'), os.path.join(BA_DIR, 'users.csv'))\n",
    "\n",
    "breweries_data['id'] = breweries_data['id'].astype(int)\n",
    "ratings_data['brewery_id'] = ratings_data['brewery_id'].astype(int)\n",
    "ratings_data['beer_id'] = ratings_data['beer_id'].astype(int)"
   ]
  },
  {
   "cell_type": "markdown",
   "metadata": {},
   "source": [
    "## Let's investigate Beer nations\n"
   ]
  },
  {
   "cell_type": "markdown",
   "metadata": {},
   "source": [
    "The concept of \"Beer Nations\" can be explored by examining countries with a high number of breweries and a diverse range of beer styles. Typically, countries like Belgium, Germany, and the United States are renowned for their beer culture.\n",
    "By analyzing the distribution of breweries and the variety of beer styles, we will identify which countries stand out as prominent beer producers and connoisseurs."
   ]
  },
  {
   "cell_type": "code",
   "execution_count": null,
   "metadata": {},
   "outputs": [],
   "source": [
    "brewery_id_to_country = breweries_data.set_index(\"id\")[\"location\"].to_dict()\n",
    "beer_id_to_brewery_id = ratings_data.set_index(\"beer_id\")[\"brewery_id\"].to_dict()\n",
    "beer_country_dict = {}\n",
    "for beer_id, brewery_id in beer_id_to_brewery_id.items():\n",
    "    if brewery_id in brewery_id_to_country:\n",
    "        country = brewery_id_to_country[brewery_id]\n",
    "        beer_country_dict[beer_id] = country"
   ]
  }
 ],
 "metadata": {
  "kernelspec": {
   "display_name": "Python 3",
   "language": "python",
   "name": "python3"
  },
  "language_info": {
   "codemirror_mode": {
    "name": "ipython",
    "version": 3
   },
   "file_extension": ".py",
   "mimetype": "text/x-python",
   "name": "python",
   "nbconvert_exporter": "python",
   "pygments_lexer": "ipython3",
   "version": "3.10.11"
  }
 },
 "nbformat": 4,
 "nbformat_minor": 2
}
